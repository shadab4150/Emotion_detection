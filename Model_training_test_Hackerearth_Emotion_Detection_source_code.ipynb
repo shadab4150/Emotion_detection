{
  "nbformat": 4,
  "nbformat_minor": 0,
  "metadata": {
    "colab": {
      "name": "Model_training_test_Hackerearth_Emotion_Detection_source_code.ipynb",
      "provenance": [],
      "collapsed_sections": []
    },
    "kernelspec": {
      "name": "python3",
      "display_name": "Python 3"
    },
    "language_info": {
      "name": "python"
    },
    "accelerator": "GPU",
    "widgets": {
      "application/vnd.jupyter.widget-state+json": {
        "5232fd09c0e14d20b09bcbcaa72d33a4": {
          "model_module": "@jupyter-widgets/controls",
          "model_name": "HBoxModel",
          "model_module_version": "1.5.0",
          "state": {
            "_view_name": "HBoxView",
            "_dom_classes": [],
            "_model_name": "HBoxModel",
            "_view_module": "@jupyter-widgets/controls",
            "_model_module_version": "1.5.0",
            "_view_count": null,
            "_view_module_version": "1.5.0",
            "box_style": "",
            "layout": "IPY_MODEL_c2472c731bd043af8058ddac1ee949af",
            "_model_module": "@jupyter-widgets/controls",
            "children": [
              "IPY_MODEL_42985d03e8bd4339bbb84f6a257b7944",
              "IPY_MODEL_76476a5b515448129233fe5f9ae9eca7",
              "IPY_MODEL_e204a6354c9e471b951bdc77492bba12"
            ]
          }
        },
        "c2472c731bd043af8058ddac1ee949af": {
          "model_module": "@jupyter-widgets/base",
          "model_name": "LayoutModel",
          "model_module_version": "1.2.0",
          "state": {
            "_view_name": "LayoutView",
            "grid_template_rows": null,
            "right": null,
            "justify_content": null,
            "_view_module": "@jupyter-widgets/base",
            "overflow": null,
            "_model_module_version": "1.2.0",
            "_view_count": null,
            "flex_flow": null,
            "width": null,
            "min_width": null,
            "border": null,
            "align_items": null,
            "bottom": null,
            "_model_module": "@jupyter-widgets/base",
            "top": null,
            "grid_column": null,
            "overflow_y": null,
            "overflow_x": null,
            "grid_auto_flow": null,
            "grid_area": null,
            "grid_template_columns": null,
            "flex": null,
            "_model_name": "LayoutModel",
            "justify_items": null,
            "grid_row": null,
            "max_height": null,
            "align_content": null,
            "visibility": null,
            "align_self": null,
            "height": null,
            "min_height": null,
            "padding": null,
            "grid_auto_rows": null,
            "grid_gap": null,
            "max_width": null,
            "order": null,
            "_view_module_version": "1.2.0",
            "grid_template_areas": null,
            "object_position": null,
            "object_fit": null,
            "grid_auto_columns": null,
            "margin": null,
            "display": null,
            "left": null
          }
        },
        "42985d03e8bd4339bbb84f6a257b7944": {
          "model_module": "@jupyter-widgets/controls",
          "model_name": "HTMLModel",
          "model_module_version": "1.5.0",
          "state": {
            "_view_name": "HTMLView",
            "style": "IPY_MODEL_67951fdfd6ed48b690846d34483058c0",
            "_dom_classes": [],
            "description": "",
            "_model_name": "HTMLModel",
            "placeholder": "​",
            "_view_module": "@jupyter-widgets/controls",
            "_model_module_version": "1.5.0",
            "value": "  0%",
            "_view_count": null,
            "_view_module_version": "1.5.0",
            "description_tooltip": null,
            "_model_module": "@jupyter-widgets/controls",
            "layout": "IPY_MODEL_159cc627c94e46158e8b114790561a46"
          }
        },
        "76476a5b515448129233fe5f9ae9eca7": {
          "model_module": "@jupyter-widgets/controls",
          "model_name": "FloatProgressModel",
          "model_module_version": "1.5.0",
          "state": {
            "_view_name": "ProgressView",
            "style": "IPY_MODEL_60655c9aa9a5409f8e9537012f39fff2",
            "_dom_classes": [],
            "description": "",
            "_model_name": "FloatProgressModel",
            "bar_style": "",
            "max": 5,
            "_view_module": "@jupyter-widgets/controls",
            "_model_module_version": "1.5.0",
            "value": 0,
            "_view_count": null,
            "_view_module_version": "1.5.0",
            "orientation": "horizontal",
            "min": 0,
            "description_tooltip": null,
            "_model_module": "@jupyter-widgets/controls",
            "layout": "IPY_MODEL_dbaca40244e34b208cefce9e66ac061e"
          }
        },
        "e204a6354c9e471b951bdc77492bba12": {
          "model_module": "@jupyter-widgets/controls",
          "model_name": "HTMLModel",
          "model_module_version": "1.5.0",
          "state": {
            "_view_name": "HTMLView",
            "style": "IPY_MODEL_420dc97fd53d4bbb89f75e4d95022385",
            "_dom_classes": [],
            "description": "",
            "_model_name": "HTMLModel",
            "placeholder": "​",
            "_view_module": "@jupyter-widgets/controls",
            "_model_module_version": "1.5.0",
            "value": " 0/5 [00:00&lt;?, ?it/s]",
            "_view_count": null,
            "_view_module_version": "1.5.0",
            "description_tooltip": null,
            "_model_module": "@jupyter-widgets/controls",
            "layout": "IPY_MODEL_27f3db92c114491fb6336f085963512b"
          }
        },
        "67951fdfd6ed48b690846d34483058c0": {
          "model_module": "@jupyter-widgets/controls",
          "model_name": "DescriptionStyleModel",
          "model_module_version": "1.5.0",
          "state": {
            "_view_name": "StyleView",
            "_model_name": "DescriptionStyleModel",
            "description_width": "",
            "_view_module": "@jupyter-widgets/base",
            "_model_module_version": "1.5.0",
            "_view_count": null,
            "_view_module_version": "1.2.0",
            "_model_module": "@jupyter-widgets/controls"
          }
        },
        "159cc627c94e46158e8b114790561a46": {
          "model_module": "@jupyter-widgets/base",
          "model_name": "LayoutModel",
          "model_module_version": "1.2.0",
          "state": {
            "_view_name": "LayoutView",
            "grid_template_rows": null,
            "right": null,
            "justify_content": null,
            "_view_module": "@jupyter-widgets/base",
            "overflow": null,
            "_model_module_version": "1.2.0",
            "_view_count": null,
            "flex_flow": null,
            "width": null,
            "min_width": null,
            "border": null,
            "align_items": null,
            "bottom": null,
            "_model_module": "@jupyter-widgets/base",
            "top": null,
            "grid_column": null,
            "overflow_y": null,
            "overflow_x": null,
            "grid_auto_flow": null,
            "grid_area": null,
            "grid_template_columns": null,
            "flex": null,
            "_model_name": "LayoutModel",
            "justify_items": null,
            "grid_row": null,
            "max_height": null,
            "align_content": null,
            "visibility": null,
            "align_self": null,
            "height": null,
            "min_height": null,
            "padding": null,
            "grid_auto_rows": null,
            "grid_gap": null,
            "max_width": null,
            "order": null,
            "_view_module_version": "1.2.0",
            "grid_template_areas": null,
            "object_position": null,
            "object_fit": null,
            "grid_auto_columns": null,
            "margin": null,
            "display": null,
            "left": null
          }
        },
        "60655c9aa9a5409f8e9537012f39fff2": {
          "model_module": "@jupyter-widgets/controls",
          "model_name": "ProgressStyleModel",
          "model_module_version": "1.5.0",
          "state": {
            "_view_name": "StyleView",
            "_model_name": "ProgressStyleModel",
            "description_width": "",
            "_view_module": "@jupyter-widgets/base",
            "_model_module_version": "1.5.0",
            "_view_count": null,
            "_view_module_version": "1.2.0",
            "bar_color": null,
            "_model_module": "@jupyter-widgets/controls"
          }
        },
        "dbaca40244e34b208cefce9e66ac061e": {
          "model_module": "@jupyter-widgets/base",
          "model_name": "LayoutModel",
          "model_module_version": "1.2.0",
          "state": {
            "_view_name": "LayoutView",
            "grid_template_rows": null,
            "right": null,
            "justify_content": null,
            "_view_module": "@jupyter-widgets/base",
            "overflow": null,
            "_model_module_version": "1.2.0",
            "_view_count": null,
            "flex_flow": null,
            "width": null,
            "min_width": null,
            "border": null,
            "align_items": null,
            "bottom": null,
            "_model_module": "@jupyter-widgets/base",
            "top": null,
            "grid_column": null,
            "overflow_y": null,
            "overflow_x": null,
            "grid_auto_flow": null,
            "grid_area": null,
            "grid_template_columns": null,
            "flex": null,
            "_model_name": "LayoutModel",
            "justify_items": null,
            "grid_row": null,
            "max_height": null,
            "align_content": null,
            "visibility": null,
            "align_self": null,
            "height": null,
            "min_height": null,
            "padding": null,
            "grid_auto_rows": null,
            "grid_gap": null,
            "max_width": null,
            "order": null,
            "_view_module_version": "1.2.0",
            "grid_template_areas": null,
            "object_position": null,
            "object_fit": null,
            "grid_auto_columns": null,
            "margin": null,
            "display": null,
            "left": null
          }
        },
        "420dc97fd53d4bbb89f75e4d95022385": {
          "model_module": "@jupyter-widgets/controls",
          "model_name": "DescriptionStyleModel",
          "model_module_version": "1.5.0",
          "state": {
            "_view_name": "StyleView",
            "_model_name": "DescriptionStyleModel",
            "description_width": "",
            "_view_module": "@jupyter-widgets/base",
            "_model_module_version": "1.5.0",
            "_view_count": null,
            "_view_module_version": "1.2.0",
            "_model_module": "@jupyter-widgets/controls"
          }
        },
        "27f3db92c114491fb6336f085963512b": {
          "model_module": "@jupyter-widgets/base",
          "model_name": "LayoutModel",
          "model_module_version": "1.2.0",
          "state": {
            "_view_name": "LayoutView",
            "grid_template_rows": null,
            "right": null,
            "justify_content": null,
            "_view_module": "@jupyter-widgets/base",
            "overflow": null,
            "_model_module_version": "1.2.0",
            "_view_count": null,
            "flex_flow": null,
            "width": null,
            "min_width": null,
            "border": null,
            "align_items": null,
            "bottom": null,
            "_model_module": "@jupyter-widgets/base",
            "top": null,
            "grid_column": null,
            "overflow_y": null,
            "overflow_x": null,
            "grid_auto_flow": null,
            "grid_area": null,
            "grid_template_columns": null,
            "flex": null,
            "_model_name": "LayoutModel",
            "justify_items": null,
            "grid_row": null,
            "max_height": null,
            "align_content": null,
            "visibility": null,
            "align_self": null,
            "height": null,
            "min_height": null,
            "padding": null,
            "grid_auto_rows": null,
            "grid_gap": null,
            "max_width": null,
            "order": null,
            "_view_module_version": "1.2.0",
            "grid_template_areas": null,
            "object_position": null,
            "object_fit": null,
            "grid_auto_columns": null,
            "margin": null,
            "display": null,
            "left": null
          }
        }
      }
    }
  },
  "cells": [
    {
      "cell_type": "markdown",
      "metadata": {
        "id": "O2gxgse6gpXm"
      },
      "source": [
        "# [Hackerearth Predict the Emotion Challenge from audio files](https://www.hackerearth.com/challenges/competitive/ia-for-ai/)\n",
        "\n",
        "![Problem Statement](https://i.ibb.co/Yf1948g/hackimg.png)\n",
        "\n",
        "\n",
        "## My Bronze Medal 3rd Place Solution Write Up:\n",
        "\n",
        "* **Leaderboard Rank** : https://www.hackerearth.com/challenges/competitive/ia-for-ai/leaderboard/\n",
        "\n",
        "![imgage_leaderboard](https://i.ibb.co/wwWnzvM/hackerearth-emotio-detection-leaderboard.png)\n",
        "\n",
        "* Firstly, I was occupied in my exams didn't have time. I accidently opened hackerearth found the comeptition been going on for about a month.\n",
        "\n",
        "* I just joined the competition 3 days before the completion.\n",
        "\n",
        "* So, Being time constrained, I don't time to experiment a lot. First I thought of using torchaudio models. But ran a first draft through it.\n",
        "\n",
        "* Then I thought, though torchaudio model could give better given time. To do a fast experiment I have to use CNNs, with spectograms.\n",
        "\n",
        "* I did audio exploration files conatined both mp3 wav. Since I didn't have attened AMA in beginnig didn't find proper meta regarding audio files. I assumed they were sample at traditional 44100 Hz.\n",
        "\n",
        "* I used a 5 fold Stratified KFold.\n",
        "\n",
        "* After exploring the audio lengths. They varied from 0.5s to > 22.0s. I took a distibution of lengths of audio files, took a max lenths of 5 secs for audion spectrograms of size (128,455). If files were less than 5.0s, They were extrpolated of to 5 sec using zeros.\n",
        "\n",
        "* Converted the train and Test files into MelSpecgrams using librosa audio library. Saved on the drive.\n",
        "\n",
        "* Choose fastai instead of traditional core pytorch. And changed fastai's codes were needed. \n",
        "\n",
        "* Experimented with 6 models architectures. \n",
        "    * resnest50\n",
        "    * efficientnet b0-b4.\n",
        "\n",
        "* There individual best scores varied from 57 to 59\n",
        "* I tried making ensemble using different weights to 5 models, they didn't gave better results.\n",
        "* So for final submission and best score of **61.0835**. I simply took a mode of my best submissions of above 6 models.\n",
        "\n",
        "\n"
      ]
    },
    {
      "cell_type": "code",
      "metadata": {
        "id": "Mfk02rdpdGJP",
        "colab": {
          "base_uri": "https://localhost:8080/"
        },
        "outputId": "1e496d6d-9703-4521-aef6-ed7cacf6cbd7"
      },
      "source": [
        "!pip install -q gdown\n",
        "!pip install -q torchaudio"
      ],
      "execution_count": 1,
      "outputs": [
        {
          "output_type": "stream",
          "name": "stdout",
          "text": [
            "\u001b[?25l\r\u001b[K     |▏                               | 10 kB 25.5 MB/s eta 0:00:01\r\u001b[K     |▍                               | 20 kB 30.9 MB/s eta 0:00:01\r\u001b[K     |▌                               | 30 kB 23.1 MB/s eta 0:00:01\r\u001b[K     |▊                               | 40 kB 18.2 MB/s eta 0:00:01\r\u001b[K     |▉                               | 51 kB 14.2 MB/s eta 0:00:01\r\u001b[K     |█                               | 61 kB 10.4 MB/s eta 0:00:01\r\u001b[K     |█▏                              | 71 kB 11.6 MB/s eta 0:00:01\r\u001b[K     |█▍                              | 81 kB 12.9 MB/s eta 0:00:01\r\u001b[K     |█▌                              | 92 kB 11.6 MB/s eta 0:00:01\r\u001b[K     |█▊                              | 102 kB 12.4 MB/s eta 0:00:01\r\u001b[K     |██                              | 112 kB 12.4 MB/s eta 0:00:01\r\u001b[K     |██                              | 122 kB 12.4 MB/s eta 0:00:01\r\u001b[K     |██▎                             | 133 kB 12.4 MB/s eta 0:00:01\r\u001b[K     |██▍                             | 143 kB 12.4 MB/s eta 0:00:01\r\u001b[K     |██▋                             | 153 kB 12.4 MB/s eta 0:00:01\r\u001b[K     |██▊                             | 163 kB 12.4 MB/s eta 0:00:01\r\u001b[K     |███                             | 174 kB 12.4 MB/s eta 0:00:01\r\u001b[K     |███                             | 184 kB 12.4 MB/s eta 0:00:01\r\u001b[K     |███▎                            | 194 kB 12.4 MB/s eta 0:00:01\r\u001b[K     |███▌                            | 204 kB 12.4 MB/s eta 0:00:01\r\u001b[K     |███▋                            | 215 kB 12.4 MB/s eta 0:00:01\r\u001b[K     |███▉                            | 225 kB 12.4 MB/s eta 0:00:01\r\u001b[K     |████                            | 235 kB 12.4 MB/s eta 0:00:01\r\u001b[K     |████▏                           | 245 kB 12.4 MB/s eta 0:00:01\r\u001b[K     |████▎                           | 256 kB 12.4 MB/s eta 0:00:01\r\u001b[K     |████▌                           | 266 kB 12.4 MB/s eta 0:00:01\r\u001b[K     |████▋                           | 276 kB 12.4 MB/s eta 0:00:01\r\u001b[K     |████▉                           | 286 kB 12.4 MB/s eta 0:00:01\r\u001b[K     |█████                           | 296 kB 12.4 MB/s eta 0:00:01\r\u001b[K     |█████▏                          | 307 kB 12.4 MB/s eta 0:00:01\r\u001b[K     |█████▍                          | 317 kB 12.4 MB/s eta 0:00:01\r\u001b[K     |█████▌                          | 327 kB 12.4 MB/s eta 0:00:01\r\u001b[K     |█████▊                          | 337 kB 12.4 MB/s eta 0:00:01\r\u001b[K     |█████▉                          | 348 kB 12.4 MB/s eta 0:00:01\r\u001b[K     |██████                          | 358 kB 12.4 MB/s eta 0:00:01\r\u001b[K     |██████▏                         | 368 kB 12.4 MB/s eta 0:00:01\r\u001b[K     |██████▍                         | 378 kB 12.4 MB/s eta 0:00:01\r\u001b[K     |██████▋                         | 389 kB 12.4 MB/s eta 0:00:01\r\u001b[K     |██████▊                         | 399 kB 12.4 MB/s eta 0:00:01\r\u001b[K     |███████                         | 409 kB 12.4 MB/s eta 0:00:01\r\u001b[K     |███████                         | 419 kB 12.4 MB/s eta 0:00:01\r\u001b[K     |███████▎                        | 430 kB 12.4 MB/s eta 0:00:01\r\u001b[K     |███████▍                        | 440 kB 12.4 MB/s eta 0:00:01\r\u001b[K     |███████▋                        | 450 kB 12.4 MB/s eta 0:00:01\r\u001b[K     |███████▊                        | 460 kB 12.4 MB/s eta 0:00:01\r\u001b[K     |████████                        | 471 kB 12.4 MB/s eta 0:00:01\r\u001b[K     |████████▏                       | 481 kB 12.4 MB/s eta 0:00:01\r\u001b[K     |████████▎                       | 491 kB 12.4 MB/s eta 0:00:01\r\u001b[K     |████████▌                       | 501 kB 12.4 MB/s eta 0:00:01\r\u001b[K     |████████▋                       | 512 kB 12.4 MB/s eta 0:00:01\r\u001b[K     |████████▉                       | 522 kB 12.4 MB/s eta 0:00:01\r\u001b[K     |█████████                       | 532 kB 12.4 MB/s eta 0:00:01\r\u001b[K     |█████████▏                      | 542 kB 12.4 MB/s eta 0:00:01\r\u001b[K     |█████████▎                      | 552 kB 12.4 MB/s eta 0:00:01\r\u001b[K     |█████████▌                      | 563 kB 12.4 MB/s eta 0:00:01\r\u001b[K     |█████████▊                      | 573 kB 12.4 MB/s eta 0:00:01\r\u001b[K     |█████████▉                      | 583 kB 12.4 MB/s eta 0:00:01\r\u001b[K     |██████████                      | 593 kB 12.4 MB/s eta 0:00:01\r\u001b[K     |██████████▏                     | 604 kB 12.4 MB/s eta 0:00:01\r\u001b[K     |██████████▍                     | 614 kB 12.4 MB/s eta 0:00:01\r\u001b[K     |██████████▌                     | 624 kB 12.4 MB/s eta 0:00:01\r\u001b[K     |██████████▊                     | 634 kB 12.4 MB/s eta 0:00:01\r\u001b[K     |██████████▉                     | 645 kB 12.4 MB/s eta 0:00:01\r\u001b[K     |███████████                     | 655 kB 12.4 MB/s eta 0:00:01\r\u001b[K     |███████████▏                    | 665 kB 12.4 MB/s eta 0:00:01\r\u001b[K     |███████████▍                    | 675 kB 12.4 MB/s eta 0:00:01\r\u001b[K     |███████████▋                    | 686 kB 12.4 MB/s eta 0:00:01\r\u001b[K     |███████████▊                    | 696 kB 12.4 MB/s eta 0:00:01\r\u001b[K     |████████████                    | 706 kB 12.4 MB/s eta 0:00:01\r\u001b[K     |████████████                    | 716 kB 12.4 MB/s eta 0:00:01\r\u001b[K     |████████████▎                   | 727 kB 12.4 MB/s eta 0:00:01\r\u001b[K     |████████████▍                   | 737 kB 12.4 MB/s eta 0:00:01\r\u001b[K     |████████████▋                   | 747 kB 12.4 MB/s eta 0:00:01\r\u001b[K     |████████████▊                   | 757 kB 12.4 MB/s eta 0:00:01\r\u001b[K     |█████████████                   | 768 kB 12.4 MB/s eta 0:00:01\r\u001b[K     |█████████████▏                  | 778 kB 12.4 MB/s eta 0:00:01\r\u001b[K     |█████████████▎                  | 788 kB 12.4 MB/s eta 0:00:01\r\u001b[K     |█████████████▌                  | 798 kB 12.4 MB/s eta 0:00:01\r\u001b[K     |█████████████▋                  | 808 kB 12.4 MB/s eta 0:00:01\r\u001b[K     |█████████████▉                  | 819 kB 12.4 MB/s eta 0:00:01\r\u001b[K     |██████████████                  | 829 kB 12.4 MB/s eta 0:00:01\r\u001b[K     |██████████████▏                 | 839 kB 12.4 MB/s eta 0:00:01\r\u001b[K     |██████████████▎                 | 849 kB 12.4 MB/s eta 0:00:01\r\u001b[K     |██████████████▌                 | 860 kB 12.4 MB/s eta 0:00:01\r\u001b[K     |██████████████▊                 | 870 kB 12.4 MB/s eta 0:00:01\r\u001b[K     |██████████████▉                 | 880 kB 12.4 MB/s eta 0:00:01\r\u001b[K     |███████████████                 | 890 kB 12.4 MB/s eta 0:00:01\r\u001b[K     |███████████████▏                | 901 kB 12.4 MB/s eta 0:00:01\r\u001b[K     |███████████████▍                | 911 kB 12.4 MB/s eta 0:00:01\r\u001b[K     |███████████████▌                | 921 kB 12.4 MB/s eta 0:00:01\r\u001b[K     |███████████████▊                | 931 kB 12.4 MB/s eta 0:00:01\r\u001b[K     |███████████████▉                | 942 kB 12.4 MB/s eta 0:00:01\r\u001b[K     |████████████████                | 952 kB 12.4 MB/s eta 0:00:01\r\u001b[K     |████████████████▎               | 962 kB 12.4 MB/s eta 0:00:01\r\u001b[K     |████████████████▍               | 972 kB 12.4 MB/s eta 0:00:01\r\u001b[K     |████████████████▋               | 983 kB 12.4 MB/s eta 0:00:01\r\u001b[K     |████████████████▊               | 993 kB 12.4 MB/s eta 0:00:01\r\u001b[K     |█████████████████               | 1.0 MB 12.4 MB/s eta 0:00:01\r\u001b[K     |█████████████████               | 1.0 MB 12.4 MB/s eta 0:00:01\r\u001b[K     |█████████████████▎              | 1.0 MB 12.4 MB/s eta 0:00:01\r\u001b[K     |█████████████████▍              | 1.0 MB 12.4 MB/s eta 0:00:01\r\u001b[K     |█████████████████▋              | 1.0 MB 12.4 MB/s eta 0:00:01\r\u001b[K     |█████████████████▉              | 1.1 MB 12.4 MB/s eta 0:00:01\r\u001b[K     |██████████████████              | 1.1 MB 12.4 MB/s eta 0:00:01\r\u001b[K     |██████████████████▏             | 1.1 MB 12.4 MB/s eta 0:00:01\r\u001b[K     |██████████████████▎             | 1.1 MB 12.4 MB/s eta 0:00:01\r\u001b[K     |██████████████████▌             | 1.1 MB 12.4 MB/s eta 0:00:01\r\u001b[K     |██████████████████▋             | 1.1 MB 12.4 MB/s eta 0:00:01\r\u001b[K     |██████████████████▉             | 1.1 MB 12.4 MB/s eta 0:00:01\r\u001b[K     |███████████████████             | 1.1 MB 12.4 MB/s eta 0:00:01\r\u001b[K     |███████████████████▏            | 1.1 MB 12.4 MB/s eta 0:00:01\r\u001b[K     |███████████████████▍            | 1.1 MB 12.4 MB/s eta 0:00:01\r\u001b[K     |███████████████████▌            | 1.2 MB 12.4 MB/s eta 0:00:01\r\u001b[K     |███████████████████▊            | 1.2 MB 12.4 MB/s eta 0:00:01\r\u001b[K     |███████████████████▉            | 1.2 MB 12.4 MB/s eta 0:00:01\r\u001b[K     |████████████████████            | 1.2 MB 12.4 MB/s eta 0:00:01\r\u001b[K     |████████████████████▏           | 1.2 MB 12.4 MB/s eta 0:00:01\r\u001b[K     |████████████████████▍           | 1.2 MB 12.4 MB/s eta 0:00:01\r\u001b[K     |████████████████████▌           | 1.2 MB 12.4 MB/s eta 0:00:01\r\u001b[K     |████████████████████▊           | 1.2 MB 12.4 MB/s eta 0:00:01\r\u001b[K     |█████████████████████           | 1.2 MB 12.4 MB/s eta 0:00:01\r\u001b[K     |█████████████████████           | 1.2 MB 12.4 MB/s eta 0:00:01\r\u001b[K     |█████████████████████▎          | 1.3 MB 12.4 MB/s eta 0:00:01\r\u001b[K     |█████████████████████▍          | 1.3 MB 12.4 MB/s eta 0:00:01\r\u001b[K     |█████████████████████▋          | 1.3 MB 12.4 MB/s eta 0:00:01\r\u001b[K     |█████████████████████▊          | 1.3 MB 12.4 MB/s eta 0:00:01\r\u001b[K     |██████████████████████          | 1.3 MB 12.4 MB/s eta 0:00:01\r\u001b[K     |██████████████████████          | 1.3 MB 12.4 MB/s eta 0:00:01\r\u001b[K     |██████████████████████▎         | 1.3 MB 12.4 MB/s eta 0:00:01\r\u001b[K     |██████████████████████▍         | 1.3 MB 12.4 MB/s eta 0:00:01\r\u001b[K     |██████████████████████▋         | 1.3 MB 12.4 MB/s eta 0:00:01\r\u001b[K     |██████████████████████▉         | 1.4 MB 12.4 MB/s eta 0:00:01\r\u001b[K     |███████████████████████         | 1.4 MB 12.4 MB/s eta 0:00:01\r\u001b[K     |███████████████████████▏        | 1.4 MB 12.4 MB/s eta 0:00:01\r\u001b[K     |███████████████████████▎        | 1.4 MB 12.4 MB/s eta 0:00:01\r\u001b[K     |███████████████████████▌        | 1.4 MB 12.4 MB/s eta 0:00:01\r\u001b[K     |███████████████████████▋        | 1.4 MB 12.4 MB/s eta 0:00:01\r\u001b[K     |███████████████████████▉        | 1.4 MB 12.4 MB/s eta 0:00:01\r\u001b[K     |████████████████████████        | 1.4 MB 12.4 MB/s eta 0:00:01\r\u001b[K     |████████████████████████▏       | 1.4 MB 12.4 MB/s eta 0:00:01\r\u001b[K     |████████████████████████▍       | 1.4 MB 12.4 MB/s eta 0:00:01\r\u001b[K     |████████████████████████▌       | 1.5 MB 12.4 MB/s eta 0:00:01\r\u001b[K     |████████████████████████▊       | 1.5 MB 12.4 MB/s eta 0:00:01\r\u001b[K     |████████████████████████▉       | 1.5 MB 12.4 MB/s eta 0:00:01\r\u001b[K     |█████████████████████████       | 1.5 MB 12.4 MB/s eta 0:00:01\r\u001b[K     |█████████████████████████▏      | 1.5 MB 12.4 MB/s eta 0:00:01\r\u001b[K     |█████████████████████████▍      | 1.5 MB 12.4 MB/s eta 0:00:01\r\u001b[K     |█████████████████████████▌      | 1.5 MB 12.4 MB/s eta 0:00:01\r\u001b[K     |█████████████████████████▊      | 1.5 MB 12.4 MB/s eta 0:00:01\r\u001b[K     |██████████████████████████      | 1.5 MB 12.4 MB/s eta 0:00:01\r\u001b[K     |██████████████████████████      | 1.5 MB 12.4 MB/s eta 0:00:01\r\u001b[K     |██████████████████████████▎     | 1.6 MB 12.4 MB/s eta 0:00:01\r\u001b[K     |██████████████████████████▍     | 1.6 MB 12.4 MB/s eta 0:00:01\r\u001b[K     |██████████████████████████▋     | 1.6 MB 12.4 MB/s eta 0:00:01\r\u001b[K     |██████████████████████████▊     | 1.6 MB 12.4 MB/s eta 0:00:01\r\u001b[K     |███████████████████████████     | 1.6 MB 12.4 MB/s eta 0:00:01\r\u001b[K     |███████████████████████████     | 1.6 MB 12.4 MB/s eta 0:00:01\r\u001b[K     |███████████████████████████▎    | 1.6 MB 12.4 MB/s eta 0:00:01\r\u001b[K     |███████████████████████████▌    | 1.6 MB 12.4 MB/s eta 0:00:01\r\u001b[K     |███████████████████████████▋    | 1.6 MB 12.4 MB/s eta 0:00:01\r\u001b[K     |███████████████████████████▉    | 1.6 MB 12.4 MB/s eta 0:00:01\r\u001b[K     |████████████████████████████    | 1.7 MB 12.4 MB/s eta 0:00:01\r\u001b[K     |████████████████████████████▏   | 1.7 MB 12.4 MB/s eta 0:00:01\r\u001b[K     |████████████████████████████▎   | 1.7 MB 12.4 MB/s eta 0:00:01\r\u001b[K     |████████████████████████████▌   | 1.7 MB 12.4 MB/s eta 0:00:01\r\u001b[K     |████████████████████████████▋   | 1.7 MB 12.4 MB/s eta 0:00:01\r\u001b[K     |████████████████████████████▉   | 1.7 MB 12.4 MB/s eta 0:00:01\r\u001b[K     |█████████████████████████████   | 1.7 MB 12.4 MB/s eta 0:00:01\r\u001b[K     |█████████████████████████████▏  | 1.7 MB 12.4 MB/s eta 0:00:01\r\u001b[K     |█████████████████████████████▍  | 1.7 MB 12.4 MB/s eta 0:00:01\r\u001b[K     |█████████████████████████████▌  | 1.8 MB 12.4 MB/s eta 0:00:01\r\u001b[K     |█████████████████████████████▊  | 1.8 MB 12.4 MB/s eta 0:00:01\r\u001b[K     |█████████████████████████████▉  | 1.8 MB 12.4 MB/s eta 0:00:01\r\u001b[K     |██████████████████████████████  | 1.8 MB 12.4 MB/s eta 0:00:01\r\u001b[K     |██████████████████████████████▏ | 1.8 MB 12.4 MB/s eta 0:00:01\r\u001b[K     |██████████████████████████████▍ | 1.8 MB 12.4 MB/s eta 0:00:01\r\u001b[K     |██████████████████████████████▋ | 1.8 MB 12.4 MB/s eta 0:00:01\r\u001b[K     |██████████████████████████████▊ | 1.8 MB 12.4 MB/s eta 0:00:01\r\u001b[K     |███████████████████████████████ | 1.8 MB 12.4 MB/s eta 0:00:01\r\u001b[K     |███████████████████████████████ | 1.8 MB 12.4 MB/s eta 0:00:01\r\u001b[K     |███████████████████████████████▎| 1.9 MB 12.4 MB/s eta 0:00:01\r\u001b[K     |███████████████████████████████▍| 1.9 MB 12.4 MB/s eta 0:00:01\r\u001b[K     |███████████████████████████████▋| 1.9 MB 12.4 MB/s eta 0:00:01\r\u001b[K     |███████████████████████████████▊| 1.9 MB 12.4 MB/s eta 0:00:01\r\u001b[K     |████████████████████████████████| 1.9 MB 12.4 MB/s eta 0:00:01\r\u001b[K     |████████████████████████████████| 1.9 MB 12.4 MB/s \n",
            "\u001b[?25h"
          ]
        }
      ]
    },
    {
      "cell_type": "code",
      "metadata": {
        "id": "gZK8hnX6GWqW"
      },
      "source": [
        "import albumentations\n",
        "import pandas as pd\n",
        "import gdown\n",
        "import plotly.express as px\n",
        "import seaborn as sns\n",
        "import torch,os\n",
        "from tqdm.notebook import tqdm\n",
        "import torch.nn as nn\n",
        "from torch.nn import functional as F\n",
        "import torchaudio\n",
        "import librosa\n",
        "import numpy as np\n",
        "import IPython\n",
        "import matplotlib.pyplot as plt\n",
        "import audioread\n",
        "import cv2\n",
        "from sklearn.model_selection import train_test_split\n",
        "import torch.nn as nn\n",
        "import random,os,gc,sys"
      ],
      "execution_count": 2,
      "outputs": []
    },
    {
      "cell_type": "code",
      "metadata": {
        "id": "KRzbSGF9xrzu"
      },
      "source": [
        "import warnings\n",
        "warnings.filterwarnings('ignore')"
      ],
      "execution_count": 3,
      "outputs": []
    },
    {
      "cell_type": "markdown",
      "metadata": {
        "id": "n1fezQ-w3tiJ"
      },
      "source": [
        "### Downloading our data and already preprocessed audio files."
      ]
    },
    {
      "cell_type": "code",
      "metadata": {
        "colab": {
          "base_uri": "https://localhost:8080/",
          "height": 105
        },
        "id": "Pui_UW-I0qKO",
        "outputId": "e6af15bd-01c8-4294-9340-a41c744017c3"
      },
      "source": [
        "url = 'https://drive.google.com/uc?export=download&id=131jmLqPqORC6hdRLaFGb_HEYCtBdPURS' \n",
        "output = 'dbb3bd26ead211eb.zip' \n",
        "gdown.download(url, output, quiet=False)"
      ],
      "execution_count": 4,
      "outputs": [
        {
          "output_type": "stream",
          "name": "stderr",
          "text": [
            "Downloading...\n",
            "From: https://drive.google.com/uc?export=download&id=131jmLqPqORC6hdRLaFGb_HEYCtBdPURS\n",
            "To: /content/dbb3bd26ead211eb.zip\n",
            "435MB [00:05, 76.8MB/s]\n"
          ]
        },
        {
          "output_type": "execute_result",
          "data": {
            "application/vnd.google.colaboratory.intrinsic+json": {
              "type": "string"
            },
            "text/plain": [
              "'dbb3bd26ead211eb.zip'"
            ]
          },
          "metadata": {},
          "execution_count": 4
        }
      ]
    },
    {
      "cell_type": "code",
      "metadata": {
        "colab": {
          "base_uri": "https://localhost:8080/",
          "height": 105
        },
        "id": "8r0xjYDE0z7N",
        "outputId": "10ca65ae-7e62-406b-b0eb-563f934c0f63"
      },
      "source": [
        "url = 'https://drive.google.com/uc?export=download&id=1zbl2e5pqiN7ghLlcVXL2r5nZP_IIWIGk' \n",
        "output = 'trainMelspec.zip' \n",
        "gdown.download(url, output, quiet=False)"
      ],
      "execution_count": 5,
      "outputs": [
        {
          "output_type": "stream",
          "name": "stderr",
          "text": [
            "Downloading...\n",
            "From: https://drive.google.com/uc?export=download&id=1zbl2e5pqiN7ghLlcVXL2r5nZP_IIWIGk\n",
            "To: /content/trainMelspec.zip\n",
            "116MB [00:01, 90.9MB/s]\n"
          ]
        },
        {
          "output_type": "execute_result",
          "data": {
            "application/vnd.google.colaboratory.intrinsic+json": {
              "type": "string"
            },
            "text/plain": [
              "'trainMelspec.zip'"
            ]
          },
          "metadata": {},
          "execution_count": 5
        }
      ]
    },
    {
      "cell_type": "code",
      "metadata": {
        "colab": {
          "base_uri": "https://localhost:8080/",
          "height": 105
        },
        "id": "Z_cHKdBT0z-8",
        "outputId": "f0ef7070-c8cf-4029-d087-52b623691ee8"
      },
      "source": [
        "url = 'https://drive.google.com/uc?export=download&id=1lpq68t-VvnS1k3uNXA5IlbkzhjbL4b4-' \n",
        "output = 'testMelspec.zip' \n",
        "gdown.download(url, output, quiet=False)"
      ],
      "execution_count": 6,
      "outputs": [
        {
          "output_type": "stream",
          "name": "stderr",
          "text": [
            "Downloading...\n",
            "From: https://drive.google.com/uc?export=download&id=1lpq68t-VvnS1k3uNXA5IlbkzhjbL4b4-\n",
            "To: /content/testMelspec.zip\n",
            "50.4MB [00:00, 72.5MB/s]\n"
          ]
        },
        {
          "output_type": "execute_result",
          "data": {
            "application/vnd.google.colaboratory.intrinsic+json": {
              "type": "string"
            },
            "text/plain": [
              "'testMelspec.zip'"
            ]
          },
          "metadata": {},
          "execution_count": 6
        }
      ]
    },
    {
      "cell_type": "code",
      "metadata": {
        "id": "pajYPtW60qQc"
      },
      "source": [
        "!unzip -qq /content/dbb3bd26ead211eb.zip"
      ],
      "execution_count": 7,
      "outputs": []
    },
    {
      "cell_type": "code",
      "metadata": {
        "id": "UezDor6yHHcU"
      },
      "source": [
        "df = pd.read_csv('/content/dataset/train.csv')"
      ],
      "execution_count": 8,
      "outputs": []
    },
    {
      "cell_type": "code",
      "metadata": {
        "id": "SxTEB-1tJUlO"
      },
      "source": [
        "df['file_path'] = df['filename'].apply(lambda x:f'/content/dataset/TrainAudioFiles/{x}')"
      ],
      "execution_count": 9,
      "outputs": []
    },
    {
      "cell_type": "code",
      "metadata": {
        "colab": {
          "base_uri": "https://localhost:8080/"
        },
        "id": "axE0-ghYJPSQ",
        "outputId": "4906bcc1-6f44-47dd-e4ad-503fab0da062"
      },
      "source": [
        "df.info()"
      ],
      "execution_count": 10,
      "outputs": [
        {
          "output_type": "stream",
          "name": "stdout",
          "text": [
            "<class 'pandas.core.frame.DataFrame'>\n",
            "RangeIndex: 5816 entries, 0 to 5815\n",
            "Data columns (total 3 columns):\n",
            " #   Column     Non-Null Count  Dtype \n",
            "---  ------     --------------  ----- \n",
            " 0   filename   5816 non-null   object\n",
            " 1   emotion    5816 non-null   object\n",
            " 2   file_path  5816 non-null   object\n",
            "dtypes: object(3)\n",
            "memory usage: 136.4+ KB\n"
          ]
        }
      ]
    },
    {
      "cell_type": "code",
      "metadata": {
        "colab": {
          "base_uri": "https://localhost:8080/",
          "height": 279
        },
        "id": "WK-EvPMmIAZ9",
        "outputId": "9e7cacbe-4c5e-4617-c8d7-14fa011dc7b3"
      },
      "source": [
        "sns.countplot(x=df.emotion);"
      ],
      "execution_count": 11,
      "outputs": [
        {
          "output_type": "display_data",
          "data": {
            "image/png": "[encoded data removed]",
            "text/plain": [
              "<Figure size 432x288 with 1 Axes>"
            ]
          },
          "metadata": {
            "needs_background": "light"
          }
        }
      ]
    },
    {
      "cell_type": "code",
      "metadata": {
        "id": "2br-ddUEvd88"
      },
      "source": [
        "emotion_map = {'neutral':0, 'joy':1, 'disgust':2, 'surprise':3, 'sadness':4, 'fear':5,'anger':6}"
      ],
      "execution_count": 12,
      "outputs": []
    },
    {
      "cell_type": "code",
      "metadata": {
        "id": "LZo6b1oF-5AM"
      },
      "source": [
        "inv_emo = {v: k for k, v in emotion_map.items()};"
      ],
      "execution_count": 13,
      "outputs": []
    },
    {
      "cell_type": "code",
      "metadata": {
        "id": "7D9Plwmkvtpu"
      },
      "source": [
        "df['target'] = df['emotion'].map(emotion_map)"
      ],
      "execution_count": 14,
      "outputs": []
    },
    {
      "cell_type": "code",
      "metadata": {
        "colab": {
          "base_uri": "https://localhost:8080/",
          "height": 363
        },
        "id": "S5uudTorv0yv",
        "outputId": "b4670f53-fc86-42c4-cab2-6cd98af5c5e7"
      },
      "source": [
        "df.sample(n=10)"
      ],
      "execution_count": 15,
      "outputs": [
        {
          "output_type": "execute_result",
          "data": {
            "text/html": [
              "<div>\n",
              "<style scoped>\n",
              "    .dataframe tbody tr th:only-of-type {\n",
              "        vertical-align: middle;\n",
              "    }\n",
              "\n",
              "    .dataframe tbody tr th {\n",
              "        vertical-align: top;\n",
              "    }\n",
              "\n",
              "    .dataframe thead th {\n",
              "        text-align: right;\n",
              "    }\n",
              "</style>\n",
              "<table border=\"1\" class=\"dataframe\">\n",
              "  <thead>\n",
              "    <tr style=\"text-align: right;\">\n",
              "      <th></th>\n",
              "      <th>filename</th>\n",
              "      <th>emotion</th>\n",
              "      <th>file_path</th>\n",
              "      <th>target</th>\n",
              "    </tr>\n",
              "  </thead>\n",
              "  <tbody>\n",
              "    <tr>\n",
              "      <th>761</th>\n",
              "      <td>29353.mp3</td>\n",
              "      <td>neutral</td>\n",
              "      <td>/content/dataset/TrainAudioFiles/29353.mp3</td>\n",
              "      <td>0</td>\n",
              "    </tr>\n",
              "    <tr>\n",
              "      <th>3561</th>\n",
              "      <td>28818.mp3</td>\n",
              "      <td>surprise</td>\n",
              "      <td>/content/dataset/TrainAudioFiles/28818.mp3</td>\n",
              "      <td>3</td>\n",
              "    </tr>\n",
              "    <tr>\n",
              "      <th>1993</th>\n",
              "      <td>1853.mp3</td>\n",
              "      <td>neutral</td>\n",
              "      <td>/content/dataset/TrainAudioFiles/1853.mp3</td>\n",
              "      <td>0</td>\n",
              "    </tr>\n",
              "    <tr>\n",
              "      <th>1453</th>\n",
              "      <td>1306.mp3</td>\n",
              "      <td>sadness</td>\n",
              "      <td>/content/dataset/TrainAudioFiles/1306.mp3</td>\n",
              "      <td>4</td>\n",
              "    </tr>\n",
              "    <tr>\n",
              "      <th>2583</th>\n",
              "      <td>24155.mp3</td>\n",
              "      <td>joy</td>\n",
              "      <td>/content/dataset/TrainAudioFiles/24155.mp3</td>\n",
              "      <td>1</td>\n",
              "    </tr>\n",
              "    <tr>\n",
              "      <th>3438</th>\n",
              "      <td>7701.mp3</td>\n",
              "      <td>neutral</td>\n",
              "      <td>/content/dataset/TrainAudioFiles/7701.mp3</td>\n",
              "      <td>0</td>\n",
              "    </tr>\n",
              "    <tr>\n",
              "      <th>861</th>\n",
              "      <td>24832.mp3</td>\n",
              "      <td>neutral</td>\n",
              "      <td>/content/dataset/TrainAudioFiles/24832.mp3</td>\n",
              "      <td>0</td>\n",
              "    </tr>\n",
              "    <tr>\n",
              "      <th>697</th>\n",
              "      <td>15243.mp3</td>\n",
              "      <td>neutral</td>\n",
              "      <td>/content/dataset/TrainAudioFiles/15243.mp3</td>\n",
              "      <td>0</td>\n",
              "    </tr>\n",
              "    <tr>\n",
              "      <th>3825</th>\n",
              "      <td>26959.mp3</td>\n",
              "      <td>sadness</td>\n",
              "      <td>/content/dataset/TrainAudioFiles/26959.mp3</td>\n",
              "      <td>4</td>\n",
              "    </tr>\n",
              "    <tr>\n",
              "      <th>4136</th>\n",
              "      <td>5097.mp3</td>\n",
              "      <td>neutral</td>\n",
              "      <td>/content/dataset/TrainAudioFiles/5097.mp3</td>\n",
              "      <td>0</td>\n",
              "    </tr>\n",
              "  </tbody>\n",
              "</table>\n",
              "</div>"
            ],
            "text/plain": [
              "       filename   emotion                                   file_path  target\n",
              "761   29353.mp3   neutral  /content/dataset/TrainAudioFiles/29353.mp3       0\n",
              "3561  28818.mp3  surprise  /content/dataset/TrainAudioFiles/28818.mp3       3\n",
              "1993   1853.mp3   neutral   /content/dataset/TrainAudioFiles/1853.mp3       0\n",
              "1453   1306.mp3   sadness   /content/dataset/TrainAudioFiles/1306.mp3       4\n",
              "2583  24155.mp3       joy  /content/dataset/TrainAudioFiles/24155.mp3       1\n",
              "3438   7701.mp3   neutral   /content/dataset/TrainAudioFiles/7701.mp3       0\n",
              "861   24832.mp3   neutral  /content/dataset/TrainAudioFiles/24832.mp3       0\n",
              "697   15243.mp3   neutral  /content/dataset/TrainAudioFiles/15243.mp3       0\n",
              "3825  26959.mp3   sadness  /content/dataset/TrainAudioFiles/26959.mp3       4\n",
              "4136   5097.mp3   neutral   /content/dataset/TrainAudioFiles/5097.mp3       0"
            ]
          },
          "metadata": {},
          "execution_count": 15
        }
      ]
    },
    {
      "cell_type": "code",
      "metadata": {
        "id": "Ebc-yKVOremL"
      },
      "source": [
        "tsdf = pd.read_csv('/content/dataset/test.csv')"
      ],
      "execution_count": 16,
      "outputs": []
    },
    {
      "cell_type": "code",
      "metadata": {
        "id": "E6dd_YeVrf9j"
      },
      "source": [
        "tsdf['file_path'] = tsdf['filename'].apply(lambda x:f'/content/dataset/TestAudioFiles/{x}')"
      ],
      "execution_count": 17,
      "outputs": []
    },
    {
      "cell_type": "code",
      "metadata": {
        "colab": {
          "base_uri": "https://localhost:8080/",
          "height": 143
        },
        "id": "1O4-S5RbrhPz",
        "outputId": "8b796978-6d44-4f22-b949-5db0fa11e601"
      },
      "source": [
        "tsdf.head(3)"
      ],
      "execution_count": 18,
      "outputs": [
        {
          "output_type": "execute_result",
          "data": {
            "text/html": [
              "<div>\n",
              "<style scoped>\n",
              "    .dataframe tbody tr th:only-of-type {\n",
              "        vertical-align: middle;\n",
              "    }\n",
              "\n",
              "    .dataframe tbody tr th {\n",
              "        vertical-align: top;\n",
              "    }\n",
              "\n",
              "    .dataframe thead th {\n",
              "        text-align: right;\n",
              "    }\n",
              "</style>\n",
              "<table border=\"1\" class=\"dataframe\">\n",
              "  <thead>\n",
              "    <tr style=\"text-align: right;\">\n",
              "      <th></th>\n",
              "      <th>filename</th>\n",
              "      <th>file_path</th>\n",
              "    </tr>\n",
              "  </thead>\n",
              "  <tbody>\n",
              "    <tr>\n",
              "      <th>0</th>\n",
              "      <td>26199.mp3</td>\n",
              "      <td>/content/dataset/TestAudioFiles/26199.mp3</td>\n",
              "    </tr>\n",
              "    <tr>\n",
              "      <th>1</th>\n",
              "      <td>692.mp3</td>\n",
              "      <td>/content/dataset/TestAudioFiles/692.mp3</td>\n",
              "    </tr>\n",
              "    <tr>\n",
              "      <th>2</th>\n",
              "      <td>16821.mp3</td>\n",
              "      <td>/content/dataset/TestAudioFiles/16821.mp3</td>\n",
              "    </tr>\n",
              "  </tbody>\n",
              "</table>\n",
              "</div>"
            ],
            "text/plain": [
              "    filename                                  file_path\n",
              "0  26199.mp3  /content/dataset/TestAudioFiles/26199.mp3\n",
              "1    692.mp3    /content/dataset/TestAudioFiles/692.mp3\n",
              "2  16821.mp3  /content/dataset/TestAudioFiles/16821.mp3"
            ]
          },
          "metadata": {},
          "execution_count": 18
        }
      ]
    },
    {
      "cell_type": "code",
      "metadata": {
        "id": "RjEhXuYp1N8h"
      },
      "source": [
        "!unzip -qq '/content/trainMelspec.zip' -d '/content/TrainMelSpec'"
      ],
      "execution_count": 19,
      "outputs": []
    },
    {
      "cell_type": "code",
      "metadata": {
        "id": "qNot2uAX1OAC"
      },
      "source": [
        "!unzip -qq '/content/testMelspec.zip' -d '/content/TestMelSpec'"
      ],
      "execution_count": 20,
      "outputs": []
    },
    {
      "cell_type": "code",
      "metadata": {
        "colab": {
          "base_uri": "https://localhost:8080/"
        },
        "id": "il8-uS9MzcF3",
        "outputId": "4eeec75f-910a-428b-80d8-e3b89c465c41"
      },
      "source": [
        "!pip uninstall fastai -y"
      ],
      "execution_count": 21,
      "outputs": [
        {
          "output_type": "stream",
          "name": "stdout",
          "text": [
            "Found existing installation: fastai 1.0.61\n",
            "Uninstalling fastai-1.0.61:\n",
            "  Successfully uninstalled fastai-1.0.61\n"
          ]
        }
      ]
    },
    {
      "cell_type": "code",
      "metadata": {
        "colab": {
          "base_uri": "https://localhost:8080/"
        },
        "id": "YLRZlfX3zq1s",
        "outputId": "3cf20b8b-47c5-4f7a-e459-809c369e2e1d"
      },
      "source": [
        "!pip install -Uqq fastai"
      ],
      "execution_count": 22,
      "outputs": [
        {
          "output_type": "stream",
          "name": "stdout",
          "text": [
            "\u001b[K     |████████████████████████████████| 186 kB 12.5 MB/s \n",
            "\u001b[K     |████████████████████████████████| 56 kB 4.1 MB/s \n",
            "\u001b[?25h"
          ]
        }
      ]
    },
    {
      "cell_type": "code",
      "metadata": {
        "id": "NIcF4aMcycJs"
      },
      "source": [
        "from fastai.vision.all import *"
      ],
      "execution_count": 37,
      "outputs": []
    },
    {
      "cell_type": "code",
      "metadata": {
        "id": "eo-sTxGq4sGN"
      },
      "source": [
        "def get_audio(x):\n",
        "    try:\n",
        "        wave = torchaudio.load(x)[0][0]\n",
        "    except:\n",
        "        wave,sr = librosa.load(x,sr=44100)\n",
        "        wave = torch.from_numpy(wave)\n",
        "    temp_wv = torch.zeros([550634])\n",
        "    if wave.numel() < 550634:\n",
        "        temp_wv[:wave.numel()] = wave[:]\n",
        "    else:\n",
        "        temp_wv[:] = wave[:550634]\n",
        "    return temp_wv[::2].unsqueeze(0)"
      ],
      "execution_count": 24,
      "outputs": []
    },
    {
      "cell_type": "code",
      "metadata": {
        "id": "4J7ACsAQ601i"
      },
      "source": [
        "wave = get_audio('/content/dataset/TrainAudioFiles/38543.wav')"
      ],
      "execution_count": 25,
      "outputs": []
    },
    {
      "cell_type": "code",
      "metadata": {
        "id": "WzyWGs6M0jLH"
      },
      "source": [
        "def label_func(fname):\n",
        "    return int(df[df['filename']==fname.name]['target'].values[0])"
      ],
      "execution_count": 26,
      "outputs": []
    },
    {
      "cell_type": "markdown",
      "metadata": {
        "id": "Y70gMq0a32CQ"
      },
      "source": [
        "### StratifiedKFOLD"
      ]
    },
    {
      "cell_type": "code",
      "metadata": {
        "id": "Ky5FbLhC11eD"
      },
      "source": [
        "from sklearn.model_selection import StratifiedKFold"
      ],
      "execution_count": 27,
      "outputs": []
    },
    {
      "cell_type": "code",
      "metadata": {
        "id": "wr2X0XzF1vrq"
      },
      "source": [
        "df_comb = df.sample(frac=1.,random_state = 2020)\n",
        "df_comb['kfold'] = -1\n",
        "y = df_comb['target'].values\n",
        "kf = StratifiedKFold(n_splits=5,random_state = 2020,shuffle = True)\n",
        "for fold ,(trn_,val_ )in enumerate(kf.split(X=df_comb,y=y)):\n",
        "    df_comb.loc[val_,'kfold'] = fold"
      ],
      "execution_count": 28,
      "outputs": []
    },
    {
      "cell_type": "code",
      "metadata": {
        "id": "TscmcSxr18nr"
      },
      "source": [
        "df_comb['id'] = df_comb['filename'].apply(lambda x:str(x[:-4])+'.png')"
      ],
      "execution_count": 29,
      "outputs": []
    },
    {
      "cell_type": "code",
      "metadata": {
        "id": "4kp0QqGh2WWw"
      },
      "source": [
        "trn_df = df_comb"
      ],
      "execution_count": 30,
      "outputs": []
    },
    {
      "cell_type": "code",
      "metadata": {
        "id": "SvnBT9f12jvB"
      },
      "source": [
        "path = '/content'\n",
        "FOLD = 1"
      ],
      "execution_count": 31,
      "outputs": []
    },
    {
      "cell_type": "markdown",
      "metadata": {
        "id": "o3zIdfXw35nL"
      },
      "source": [
        "### Dataloader"
      ]
    },
    {
      "cell_type": "code",
      "metadata": {
        "id": "ClGX6C4x1sQQ"
      },
      "source": [
        "def get_data(FOLD,bs=32,sz=128):\n",
        "    item_tfms = RandomCrop(sz)\n",
        "    batch_tfms = [Normalize.from_stats(*imagenet_stats)]\n",
        "    trn_idx,val_idx = trn_df[trn_df.kfold!=FOLD].index, trn_df[trn_df.kfold==FOLD].index\n",
        "    dls = ImageDataLoaders.from_df(trn_df, path, fn_col = 'id', folder='TrainMelSpec',label_col='target',\n",
        "                                  bs=bs,y_block=CategoryBlock,item_tfms=None,batch_tfms=batch_tfms,val_idxs=val_idx)\n",
        "    return dls"
      ],
      "execution_count": 39,
      "outputs": []
    },
    {
      "cell_type": "code",
      "metadata": {
        "id": "YUvvrZDjkSUz"
      },
      "source": [
        "dls = get_data(0)"
      ],
      "execution_count": 40,
      "outputs": []
    },
    {
      "cell_type": "code",
      "metadata": {
        "colab": {
          "base_uri": "https://localhost:8080/",
          "height": 446
        },
        "id": "UipC6w7b2z41",
        "outputId": "0c94e325-54e3-49e9-f106-6d9fc4b0065b"
      },
      "source": [
        "dls.show_batch(figsize=(20,8))"
      ],
      "execution_count": 41,
      "outputs": [
        {
          "output_type": "display_data",
          "data": {
            "image/png": "[encoded data removed]",
            "text/plain": [
              "<Figure size 1440x576 with 9 Axes>"
            ]
          },
          "metadata": {
            "needs_background": "light"
          }
        }
      ]
    },
    {
      "cell_type": "code",
      "metadata": {
        "id": "eS1RRAKG7SPq"
      },
      "source": [
        "test_data_path = tsdf['filename'].apply(lambda x:f'/content/TestMelSpec/{x[:-4]}.png')"
      ],
      "execution_count": 42,
      "outputs": []
    },
    {
      "cell_type": "code",
      "metadata": {
        "colab": {
          "base_uri": "https://localhost:8080/"
        },
        "id": "nxy0Q6Bz3I6K",
        "outputId": "09c2709d-1033-46b4-8ce4-e6d4174d6d87"
      },
      "source": [
        "!pip install -q timm"
      ],
      "execution_count": 43,
      "outputs": [
        {
          "output_type": "stream",
          "name": "stdout",
          "text": [
            "\u001b[?25l\r\u001b[K     |▉                               | 10 kB 18.0 MB/s eta 0:00:01\r\u001b[K     |█▊                              | 20 kB 24.0 MB/s eta 0:00:01\r\u001b[K     |██▋                             | 30 kB 20.8 MB/s eta 0:00:01\r\u001b[K     |███▌                            | 40 kB 16.9 MB/s eta 0:00:01\r\u001b[K     |████▍                           | 51 kB 13.9 MB/s eta 0:00:01\r\u001b[K     |█████▏                          | 61 kB 12.0 MB/s eta 0:00:01\r\u001b[K     |██████                          | 71 kB 11.7 MB/s eta 0:00:01\r\u001b[K     |███████                         | 81 kB 12.9 MB/s eta 0:00:01\r\u001b[K     |███████▉                        | 92 kB 13.6 MB/s eta 0:00:01\r\u001b[K     |████████▊                       | 102 kB 10.7 MB/s eta 0:00:01\r\u001b[K     |█████████▋                      | 112 kB 10.7 MB/s eta 0:00:01\r\u001b[K     |██████████▍                     | 122 kB 10.7 MB/s eta 0:00:01\r\u001b[K     |███████████▎                    | 133 kB 10.7 MB/s eta 0:00:01\r\u001b[K     |████████████▏                   | 143 kB 10.7 MB/s eta 0:00:01\r\u001b[K     |█████████████                   | 153 kB 10.7 MB/s eta 0:00:01\r\u001b[K     |██████████████                  | 163 kB 10.7 MB/s eta 0:00:01\r\u001b[K     |██████████████▊                 | 174 kB 10.7 MB/s eta 0:00:01\r\u001b[K     |███████████████▋                | 184 kB 10.7 MB/s eta 0:00:01\r\u001b[K     |████████████████▌               | 194 kB 10.7 MB/s eta 0:00:01\r\u001b[K     |█████████████████▍              | 204 kB 10.7 MB/s eta 0:00:01\r\u001b[K     |██████████████████▎             | 215 kB 10.7 MB/s eta 0:00:01\r\u001b[K     |███████████████████▏            | 225 kB 10.7 MB/s eta 0:00:01\r\u001b[K     |████████████████████            | 235 kB 10.7 MB/s eta 0:00:01\r\u001b[K     |████████████████████▉           | 245 kB 10.7 MB/s eta 0:00:01\r\u001b[K     |█████████████████████▊          | 256 kB 10.7 MB/s eta 0:00:01\r\u001b[K     |██████████████████████▋         | 266 kB 10.7 MB/s eta 0:00:01\r\u001b[K     |███████████████████████▌        | 276 kB 10.7 MB/s eta 0:00:01\r\u001b[K     |████████████████████████▍       | 286 kB 10.7 MB/s eta 0:00:01\r\u001b[K     |█████████████████████████▏      | 296 kB 10.7 MB/s eta 0:00:01\r\u001b[K     |██████████████████████████      | 307 kB 10.7 MB/s eta 0:00:01\r\u001b[K     |███████████████████████████     | 317 kB 10.7 MB/s eta 0:00:01\r\u001b[K     |███████████████████████████▉    | 327 kB 10.7 MB/s eta 0:00:01\r\u001b[K     |████████████████████████████▊   | 337 kB 10.7 MB/s eta 0:00:01\r\u001b[K     |█████████████████████████████▌  | 348 kB 10.7 MB/s eta 0:00:01\r\u001b[K     |██████████████████████████████▍ | 358 kB 10.7 MB/s eta 0:00:01\r\u001b[K     |███████████████████████████████▎| 368 kB 10.7 MB/s eta 0:00:01\r\u001b[K     |████████████████████████████████| 376 kB 10.7 MB/s \n",
            "\u001b[?25h"
          ]
        }
      ]
    },
    {
      "cell_type": "code",
      "metadata": {
        "id": "yXhdKyu0_WI2"
      },
      "source": [
        "import timm"
      ],
      "execution_count": 44,
      "outputs": []
    },
    {
      "cell_type": "markdown",
      "metadata": {
        "id": "JWnUUT7DZRcI"
      },
      "source": [
        "### Finding Optimal Weights for CrossEntropyLoss"
      ]
    },
    {
      "cell_type": "code",
      "metadata": {
        "colab": {
          "base_uri": "https://localhost:8080/"
        },
        "id": "Et0KAAG8dgzP",
        "outputId": "f5e7fa29-08a5-4429-be2e-2347a87617fe"
      },
      "source": [
        "trn_df[trn_df.kfold==0].shape[0] / (7*np.bincount(trn_df[trn_df.kfold==0]['target'].values))"
      ],
      "execution_count": 45,
      "outputs": [
        {
          "output_type": "execute_result",
          "data": {
            "text/plain": [
              "array([0.3062352 , 0.87981859, 2.91729323, 1.52555701, 2.55824176,\n",
              "       2.10488246, 1.36299766])"
            ]
          },
          "metadata": {},
          "execution_count": 45
        }
      ]
    },
    {
      "cell_type": "code",
      "metadata": {
        "colab": {
          "base_uri": "https://localhost:8080/"
        },
        "id": "QwNEvGkldg2y",
        "outputId": "a5911a8b-a21e-4cb3-bae3-50bf109a2994"
      },
      "source": [
        "7*np.bincount(trn_df[trn_df.kfold==0]['target'].values)/trn_df[trn_df.kfold==0].shape[0]"
      ],
      "execution_count": 46,
      "outputs": [
        {
          "output_type": "execute_result",
          "data": {
            "text/plain": [
              "array([3.26546392, 1.13659794, 0.34278351, 0.65549828, 0.39089347,\n",
              "       0.47508591, 0.73367698])"
            ]
          },
          "metadata": {},
          "execution_count": 46
        }
      ]
    },
    {
      "cell_type": "markdown",
      "metadata": {
        "id": "l5MBn-dE38wY"
      },
      "source": [
        "### Training models for ensemble"
      ]
    },
    {
      "cell_type": "code",
      "metadata": {
        "id": "MUhRw3711nB4"
      },
      "source": [
        "models_list = ['efficientnet_b0','efficientnet_b1','efficientnet_b2','efficientnet_b3','efficientnet_b4','resnest50d']"
      ],
      "execution_count": 47,
      "outputs": []
    },
    {
      "cell_type": "code",
      "metadata": {
        "id": "GnJJK83_w52f",
        "colab": {
          "base_uri": "https://localhost:8080/",
          "height": 305,
          "referenced_widgets": [
            "5232fd09c0e14d20b09bcbcaa72d33a4",
            "c2472c731bd043af8058ddac1ee949af",
            "42985d03e8bd4339bbb84f6a257b7944",
            "76476a5b515448129233fe5f9ae9eca7",
            "e204a6354c9e471b951bdc77492bba12",
            "67951fdfd6ed48b690846d34483058c0",
            "159cc627c94e46158e8b114790561a46",
            "60655c9aa9a5409f8e9537012f39fff2",
            "dbaca40244e34b208cefce9e66ac061e",
            "420dc97fd53d4bbb89f75e4d95022385",
            "27f3db92c114491fb6336f085963512b"
          ]
        },
        "outputId": "2291a37b-9339-4f59-c50e-8adb9eddb68a"
      },
      "source": [
        "test_sc = []\n",
        "for mdl in models_list:\n",
        "    print(f'StartifiedKFOLD_{mdl}')\n",
        "    for F in tqdm(range(5)):\n",
        "        dls = get_data(F,bs=64)\n",
        "        wt = torch.FloatTensor([3.26546392, 1.13659794, 0.34278351, 0.65549828, 0.39089347,0.47508591, 0.73367698])\n",
        "        mymodel = timm.create_model(mdl,pretrained=True,num_classes=dls.c)\n",
        "        learn = Learner(dls, mymodel,loss_func = LabelSmoothingCrossEntropyFlat(), #cbs=[CutMix()],\n",
        "                     metrics=[accuracy,F1Score(average='macro')]).to_fp16()\n",
        "        # Callbacks\n",
        "        cb1 = SaveModelCallback(monitor='accuracy',fname=f'best_{mdl}_fold_{F}') \n",
        "        cb2 = ReduceLROnPlateau(monitor='accuracy', min_delta=0.01, patience=2,factor=0.2)\n",
        "        learn.fit_one_cycle(20, 1e-3/2,cbs = [cb1,cb2])\n",
        "        learn.load(f'best_{mdl}_fold_{F}');\n",
        "        #learn = learn.to_fp32()\n",
        "        cb3 = SaveModelCallback(monitor='accuracy',fname=f'best_{mdl}_foldB_{F}')\n",
        "        learn.fit_one_cycle(10, 1e-5/2,cbs = [cb3])\n",
        "        learn.load(f'best_{mdl}_foldB_{F}');\n",
        "        tst_dl = learn.dls.test_dl(test_data_path)\n",
        "        predictions = learn.get_preds(dl = tst_dl)\n",
        "        test_sc.append(predictions[0].numpy())\n",
        "        learn,dls,mymodel= None, None, None\n",
        "        gc.collect()"
      ],
      "execution_count": null,
      "outputs": [
        {
          "output_type": "stream",
          "name": "stdout",
          "text": [
            "StartifiedKFOLD_efficientnet_b0\n"
          ]
        },
        {
          "output_type": "display_data",
          "data": {
            "application/vnd.jupyter.widget-view+json": {
              "model_id": "5232fd09c0e14d20b09bcbcaa72d33a4",
              "version_minor": 0,
              "version_major": 2
            },
            "text/plain": [
              "  0%|          | 0/5 [00:00<?, ?it/s]"
            ]
          },
          "metadata": {}
        },
        {
          "output_type": "display_data",
          "data": {
            "text/html": [
              "\n",
              "    <div>\n",
              "        <style>\n",
              "            /* Turns off some styling */\n",
              "            progress {\n",
              "                /* gets rid of default border in Firefox and Opera. */\n",
              "                border: none;\n",
              "                /* Needs to be in here for Safari polyfill so background images work as expected. */\n",
              "                background-size: auto;\n",
              "            }\n",
              "            .progress-bar-interrupted, .progress-bar-interrupted::-webkit-progress-bar {\n",
              "                background: #F44336;\n",
              "            }\n",
              "        </style>\n",
              "      <progress value='4' class='' max='20' style='width:300px; height:20px; vertical-align: middle;'></progress>\n",
              "      20.00% [4/20 04:30<18:02]\n",
              "    </div>\n",
              "    \n",
              "<table border=\"1\" class=\"dataframe\">\n",
              "  <thead>\n",
              "    <tr style=\"text-align: left;\">\n",
              "      <th>epoch</th>\n",
              "      <th>train_loss</th>\n",
              "      <th>valid_loss</th>\n",
              "      <th>accuracy</th>\n",
              "      <th>f1_score</th>\n",
              "      <th>time</th>\n",
              "    </tr>\n",
              "  </thead>\n",
              "  <tbody>\n",
              "    <tr>\n",
              "      <td>0</td>\n",
              "      <td>2.321089</td>\n",
              "      <td>2.180791</td>\n",
              "      <td>0.404127</td>\n",
              "      <td>0.283488</td>\n",
              "      <td>01:07</td>\n",
              "    </tr>\n",
              "    <tr>\n",
              "      <td>1</td>\n",
              "      <td>1.679345</td>\n",
              "      <td>1.777747</td>\n",
              "      <td>0.446260</td>\n",
              "      <td>0.355233</td>\n",
              "      <td>01:07</td>\n",
              "    </tr>\n",
              "    <tr>\n",
              "      <td>2</td>\n",
              "      <td>1.264837</td>\n",
              "      <td>1.785677</td>\n",
              "      <td>0.417885</td>\n",
              "      <td>0.373496</td>\n",
              "      <td>01:07</td>\n",
              "    </tr>\n",
              "    <tr>\n",
              "      <td>3</td>\n",
              "      <td>0.940753</td>\n",
              "      <td>1.925820</td>\n",
              "      <td>0.424764</td>\n",
              "      <td>0.410790</td>\n",
              "      <td>01:07</td>\n",
              "    </tr>\n",
              "  </tbody>\n",
              "</table><p>\n",
              "\n",
              "    <div>\n",
              "        <style>\n",
              "            /* Turns off some styling */\n",
              "            progress {\n",
              "                /* gets rid of default border in Firefox and Opera. */\n",
              "                border: none;\n",
              "                /* Needs to be in here for Safari polyfill so background images work as expected. */\n",
              "                background-size: auto;\n",
              "            }\n",
              "            .progress-bar-interrupted, .progress-bar-interrupted::-webkit-progress-bar {\n",
              "                background: #F44336;\n",
              "            }\n",
              "        </style>\n",
              "      <progress value='39' class='' max='72' style='width:300px; height:20px; vertical-align: middle;'></progress>\n",
              "      54.17% [39/72 00:34<00:29 0.8316]\n",
              "    </div>\n",
              "    "
            ],
            "text/plain": [
              "<IPython.core.display.HTML object>"
            ]
          },
          "metadata": {}
        },
        {
          "output_type": "stream",
          "name": "stdout",
          "text": [
            "Better model found at epoch 0 with accuracy value: 0.4041272699832916.\n",
            "Better model found at epoch 1 with accuracy value: 0.44625967741012573.\n"
          ]
        }
      ]
    },
    {
      "cell_type": "code",
      "metadata": {
        "id": "iZSVmjGhwWN-"
      },
      "source": [
        "test_sc = np.array(test_sc)\n",
        "test_sc_avg = test_sc.mean(axis=0)"
      ],
      "execution_count": null,
      "outputs": []
    },
    {
      "cell_type": "code",
      "metadata": {
        "colab": {
          "base_uri": "https://localhost:8080/"
        },
        "id": "dbVKeRaxDEGI",
        "outputId": "cc5206d3-e4af-4fae-e4da-024a9893f970"
      },
      "source": [
        "preds = test_sc_avg.argmax(axis=1);preds.shape"
      ],
      "execution_count": null,
      "outputs": [
        {
          "output_type": "execute_result",
          "data": {
            "text/plain": [
              "(2492,)"
            ]
          },
          "metadata": {},
          "execution_count": 33
        }
      ]
    },
    {
      "cell_type": "code",
      "metadata": {
        "id": "8j3KgesFdDwO",
        "colab": {
          "base_uri": "https://localhost:8080/"
        },
        "outputId": "99af15c0-8606-43ae-c7fa-3caeae830c6e"
      },
      "source": [
        "test_sc_avg.shape"
      ],
      "execution_count": null,
      "outputs": [
        {
          "output_type": "execute_result",
          "data": {
            "text/plain": [
              "(2492, 7)"
            ]
          },
          "metadata": {},
          "execution_count": 32
        }
      ]
    },
    {
      "cell_type": "code",
      "metadata": {
        "id": "oPBu63GPwWRb"
      },
      "source": [
        "sub = tsdf[['filename']].copy()\n",
        "sub['emotion'] = preds\n",
        "sub['emotion'] = sub['emotion'].map(inv_emo)"
      ],
      "execution_count": null,
      "outputs": []
    },
    {
      "cell_type": "code",
      "metadata": {
        "id": "kIMNKluc_LRC"
      },
      "source": [
        "sub.to_csv('submission_emotion_detection.csv',index=False)"
      ],
      "execution_count": null,
      "outputs": []
    },
    {
      "cell_type": "code",
      "metadata": {
        "colab": {
          "base_uri": "https://localhost:8080/"
        },
        "id": "arAfbezA_LUl",
        "outputId": "d582a890-850e-4984-ed5d-3bebc370a417"
      },
      "source": [
        "sub"
      ],
      "execution_count": null,
      "outputs": [
        {
          "output_type": "execute_result",
          "data": {
            "text/html": [
              "<div>\n",
              "<style scoped>\n",
              "    .dataframe tbody tr th:only-of-type {\n",
              "        vertical-align: middle;\n",
              "    }\n",
              "\n",
              "    .dataframe tbody tr th {\n",
              "        vertical-align: top;\n",
              "    }\n",
              "\n",
              "    .dataframe thead th {\n",
              "        text-align: right;\n",
              "    }\n",
              "</style>\n",
              "<table border=\"1\" class=\"dataframe\">\n",
              "  <thead>\n",
              "    <tr style=\"text-align: right;\">\n",
              "      <th></th>\n",
              "      <th>filename</th>\n",
              "      <th>emotion</th>\n",
              "    </tr>\n",
              "  </thead>\n",
              "  <tbody>\n",
              "    <tr>\n",
              "      <th>0</th>\n",
              "      <td>26199.mp3</td>\n",
              "      <td>neutral</td>\n",
              "    </tr>\n",
              "    <tr>\n",
              "      <th>1</th>\n",
              "      <td>692.mp3</td>\n",
              "      <td>neutral</td>\n",
              "    </tr>\n",
              "    <tr>\n",
              "      <th>2</th>\n",
              "      <td>16821.mp3</td>\n",
              "      <td>neutral</td>\n",
              "    </tr>\n",
              "    <tr>\n",
              "      <th>3</th>\n",
              "      <td>1608.mp3</td>\n",
              "      <td>neutral</td>\n",
              "    </tr>\n",
              "    <tr>\n",
              "      <th>4</th>\n",
              "      <td>47947.wav</td>\n",
              "      <td>disgust</td>\n",
              "    </tr>\n",
              "    <tr>\n",
              "      <th>...</th>\n",
              "      <td>...</td>\n",
              "      <td>...</td>\n",
              "    </tr>\n",
              "    <tr>\n",
              "      <th>2487</th>\n",
              "      <td>16692.mp3</td>\n",
              "      <td>neutral</td>\n",
              "    </tr>\n",
              "    <tr>\n",
              "      <th>2488</th>\n",
              "      <td>29505.mp3</td>\n",
              "      <td>neutral</td>\n",
              "    </tr>\n",
              "    <tr>\n",
              "      <th>2489</th>\n",
              "      <td>5807.mp3</td>\n",
              "      <td>anger</td>\n",
              "    </tr>\n",
              "    <tr>\n",
              "      <th>2490</th>\n",
              "      <td>43982.wav</td>\n",
              "      <td>fear</td>\n",
              "    </tr>\n",
              "    <tr>\n",
              "      <th>2491</th>\n",
              "      <td>4079.mp3</td>\n",
              "      <td>neutral</td>\n",
              "    </tr>\n",
              "  </tbody>\n",
              "</table>\n",
              "<p>2492 rows × 2 columns</p>\n",
              "</div>"
            ],
            "text/plain": [
              "       filename  emotion\n",
              "0     26199.mp3  neutral\n",
              "1       692.mp3  neutral\n",
              "2     16821.mp3  neutral\n",
              "3      1608.mp3  neutral\n",
              "4     47947.wav  disgust\n",
              "...         ...      ...\n",
              "2487  16692.mp3  neutral\n",
              "2488  29505.mp3  neutral\n",
              "2489   5807.mp3    anger\n",
              "2490  43982.wav     fear\n",
              "2491   4079.mp3  neutral\n",
              "\n",
              "[2492 rows x 2 columns]"
            ]
          },
          "metadata": {},
          "execution_count": 36
        }
      ]
    },
    {
      "cell_type": "code",
      "metadata": {
        "id": "fnZKE1dAdI5x"
      },
      "source": [
        ""
      ],
      "execution_count": null,
      "outputs": []
    }
  ]
}